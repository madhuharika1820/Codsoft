{
  "nbformat": 4,
  "nbformat_minor": 0,
  "metadata": {
    "colab": {
      "provenance": [],
      "authorship_tag": "ABX9TyNdMiJAY2w13GrRoAoyD0jP",
      "include_colab_link": true
    },
    "kernelspec": {
      "name": "python3",
      "display_name": "Python 3"
    },
    "language_info": {
      "name": "python"
    }
  },
  "cells": [
    {
      "cell_type": "markdown",
      "metadata": {
        "id": "view-in-github",
        "colab_type": "text"
      },
      "source": [
        "<a href=\"https://colab.research.google.com/github/madhuharika1820/Codsoft/blob/main/Task_1.ipynb\" target=\"_parent\"><img src=\"https://colab.research.google.com/assets/colab-badge.svg\" alt=\"Open In Colab\"/></a>"
      ]
    },
    {
      "cell_type": "markdown",
      "source": [
        "**TASK - 1 : ROCK PAPER SCISSORS**"
      ],
      "metadata": {
        "id": "A0RHJLfdm380"
      }
    },
    {
      "cell_type": "code",
      "execution_count": null,
      "metadata": {
        "id": "Z0uzFKHRmyjo"
      },
      "outputs": [],
      "source": [
        "import random\n",
        "\n",
        "# Define choices\n",
        "choices = ['rock', 'paper', 'scissors']\n",
        "\n",
        "# Initialize scores\n",
        "user_score = 0\n",
        "computer_score = 0\n",
        "\n",
        "def play(user_choice):\n",
        "    global user_score, computer_score\n",
        "\n",
        "    # Computer randomly selects a choice\n",
        "    computer_choice = random.choice(choices)\n",
        "    print(f\"Computer chose: {computer_choice}\")\n",
        "\n",
        "    # Determine the result of the game\n",
        "    if user_choice == computer_choice:\n",
        "        result = \"It's a tie!\"\n",
        "    elif (user_choice == 'rock' and computer_choice == 'scissors') or \\\n",
        "         (user_choice == 'scissors' and computer_choice == 'paper') or \\\n",
        "         (user_choice == 'paper' and computer_choice == 'rock'):\n",
        "        result = \"You win!\"\n",
        "        user_score += 1\n",
        "    else:\n",
        "        result = \"You lose!\"\n",
        "        computer_score += 1\n",
        "\n",
        "    # Display the result and updated score\n",
        "    print(f\"You chose {user_choice}, computer chose {computer_choice}. {result}\")\n",
        "    print(f\"Score - You: {user_score}, Computer: {computer_score}\")\n",
        "    print('-' * 40)\n",
        "\n",
        "# Main game loop\n",
        "while True:\n",
        "    # Get the player's choice\n",
        "    user_input = input(\"Enter rock, paper, or scissors (or 'quit' to stop): \").lower()\n",
        "\n",
        "    # Check if the user wants to quit\n",
        "    if user_input == 'quit':\n",
        "        print(\"Game Over.\")\n",
        "        print(f\"Final Score - You: {user_score}, Computer: {computer_score}\")\n",
        "        break\n",
        "\n",
        "    # Validate user input\n",
        "    if user_input not in choices:\n",
        "        print(\"Invalid choice, please try again.\")\n",
        "        continue\n",
        "\n",
        "    # Play the game with the user's choice\n",
        "    play(user_input)\n"
      ]
    }
  ]
}