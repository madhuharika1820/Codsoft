{
  "nbformat": 4,
  "nbformat_minor": 0,
  "metadata": {
    "colab": {
      "provenance": [],
      "authorship_tag": "ABX9TyNInDtkTVR82bjfP9KioJP+",
      "include_colab_link": true
    },
    "kernelspec": {
      "name": "python3",
      "display_name": "Python 3"
    },
    "language_info": {
      "name": "python"
    }
  },
  "cells": [
    {
      "cell_type": "markdown",
      "metadata": {
        "id": "view-in-github",
        "colab_type": "text"
      },
      "source": [
        "<a href=\"https://colab.research.google.com/github/madhuharika1820/Codsoft/blob/main/Task_2.ipynb\" target=\"_parent\"><img src=\"https://colab.research.google.com/assets/colab-badge.svg\" alt=\"Open In Colab\"/></a>"
      ]
    },
    {
      "cell_type": "markdown",
      "source": [
        "**Task-2:Password Generator**"
      ],
      "metadata": {
        "id": "9rivYYgMoJ_D"
      }
    },
    {
      "cell_type": "code",
      "execution_count": null,
      "metadata": {
        "id": "p7E4N2-FoI2k"
      },
      "outputs": [],
      "source": [
        "import secrets\n",
        "import string\n",
        "\n",
        "def secure_password_generator():\n",
        "    try:\n",
        "        length = int(input(\"Enter the desired password length: \"))\n",
        "        if length <= 0:\n",
        "            raise ValueError(\"Password length must be greater than 0.\")\n",
        "    except ValueError as ve:\n",
        "        print(f\"Input Error: {ve}\")\n",
        "        return\n",
        "\n",
        "    characters = string.ascii_letters + string.digits + string.punctuation\n",
        "    password = ''.join(secrets.choice(characters) for _ in range(length))\n",
        "    print(f\"Generated password: {password}\")\n",
        "\n",
        "# Run the secure password generator\n",
        "secure_password_generator()"
      ]
    }
  ]
}