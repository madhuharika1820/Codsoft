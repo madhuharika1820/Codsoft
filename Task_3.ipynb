{
  "nbformat": 4,
  "nbformat_minor": 0,
  "metadata": {
    "colab": {
      "provenance": [],
      "authorship_tag": "ABX9TyMO06w8AZPFaiYqWb8WYZZm",
      "include_colab_link": true
    },
    "kernelspec": {
      "name": "python3",
      "display_name": "Python 3"
    },
    "language_info": {
      "name": "python"
    }
  },
  "cells": [
    {
      "cell_type": "markdown",
      "metadata": {
        "id": "view-in-github",
        "colab_type": "text"
      },
      "source": [
        "<a href=\"https://colab.research.google.com/github/madhuharika1820/Codsoft/blob/main/Task_3.ipynb\" target=\"_parent\"><img src=\"https://colab.research.google.com/assets/colab-badge.svg\" alt=\"Open In Colab\"/></a>"
      ]
    },
    {
      "cell_type": "markdown",
      "source": [
        "**Task-3:Simple Calculator**"
      ],
      "metadata": {
        "id": "lnsqYauzokja"
      }
    },
    {
      "cell_type": "code",
      "execution_count": null,
      "metadata": {
        "id": "LC7Dh2n1oi7l"
      },
      "outputs": [],
      "source": [
        "\n",
        "def calculator_with_exceptions():\n",
        "    try:\n",
        "        num1 = float(input(\"Enter the first number: \"))\n",
        "        num2 = float(input(\"Enter the second number: \"))\n",
        "        operation = input(\"Choose an operation (+, -, *, /): \")\n",
        "\n",
        "        if operation == '+':\n",
        "            result = num1 + num2\n",
        "        elif operation == '-':\n",
        "            result = num1 - num2\n",
        "        elif operation == '*':\n",
        "            result = num1 * num2\n",
        "        elif operation == '/':\n",
        "            if num2 != 0:\n",
        "                result = num1 / num2\n",
        "            else:\n",
        "                raise ZeroDivisionError(\"Error! Division by zero.\")\n",
        "        else:\n",
        "            raise ValueError(\"Invalid operation.\")\n",
        "\n",
        "    except ValueError as ve:\n",
        "        result = f\"Input Error: {ve}\"\n",
        "    except ZeroDivisionError as zde:\n",
        "        result = f\"Math Error: {zde}\"\n",
        "\n",
        "    print(f\"The result is: {result}\")\n",
        "\n",
        "# Run the calculator\n",
        "calculator_with_exceptions()"
      ]
    }
  ]
}