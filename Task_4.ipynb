{
  "nbformat": 4,
  "nbformat_minor": 0,
  "metadata": {
    "colab": {
      "provenance": [],
      "authorship_tag": "ABX9TyPvL6QIMYnSKg/ho7SopdOO",
      "include_colab_link": true
    },
    "kernelspec": {
      "name": "python3",
      "display_name": "Python 3"
    },
    "language_info": {
      "name": "python"
    }
  },
  "cells": [
    {
      "cell_type": "markdown",
      "metadata": {
        "id": "view-in-github",
        "colab_type": "text"
      },
      "source": [
        "<a href=\"https://colab.research.google.com/github/madhuharika1820/Codsoft/blob/main/Task_4.ipynb\" target=\"_parent\"><img src=\"https://colab.research.google.com/assets/colab-badge.svg\" alt=\"Open In Colab\"/></a>"
      ]
    },
    {
      "cell_type": "markdown",
      "source": [
        "**Task-4:To Do List**"
      ],
      "metadata": {
        "id": "87KIXHuMo655"
      }
    },
    {
      "cell_type": "code",
      "execution_count": null,
      "metadata": {
        "id": "HEwEryPqo5jb"
      },
      "outputs": [],
      "source": [
        "tasks = []\n",
        "\n",
        "def add_task(task):\n",
        "    tasks.append({\"id\": len(tasks) + 1, \"task\": task, \"status\": \"pending\"})\n",
        "    print(f\"Task '{task}' added successfully.\")\n",
        "\n",
        "def view_tasks():\n",
        "    if tasks:\n",
        "        for task in tasks:\n",
        "            print(f\"{task['id']}: {task['task']} [{task['status']}]\")\n",
        "    else:\n",
        "        print(\"No tasks available.\")\n",
        "\n",
        "def update_task(task_id, new_task=None, new_status=None):\n",
        "    for task in tasks:\n",
        "        if task[\"id\"] == task_id:\n",
        "            if new_task:\n",
        "                task[\"task\"] = new_task\n",
        "            if new_status:\n",
        "                task[\"status\"] = new_status\n",
        "            print(f\"Task {task_id} updated successfully.\")\n",
        "            return\n",
        "    print(f\"Task {task_id} not found.\")\n",
        "\n",
        "def delete_task(task_id):\n",
        "    global tasks\n",
        "    tasks = [task for task in tasks if task[\"id\"] != task_id]\n",
        "    print(f\"Task {task_id} deleted successfully.\")\n",
        "\n",
        "# Sample usage\n",
        "add_task(\"Complete Python project\")\n",
        "add_task(\"Buy groceries\")\n",
        "view_tasks()\n",
        "update_task(1, new_status=\"completed\")\n",
        "view_tasks()\n",
        "delete_task(2)\n",
        "view_tasks()"
      ]
    }
  ]
}