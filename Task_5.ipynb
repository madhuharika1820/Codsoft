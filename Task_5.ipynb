{
  "nbformat": 4,
  "nbformat_minor": 0,
  "metadata": {
    "colab": {
      "provenance": [],
      "authorship_tag": "ABX9TyNOAMz8LY7iGUGdGiDMJ/9W",
      "include_colab_link": true
    },
    "kernelspec": {
      "name": "python3",
      "display_name": "Python 3"
    },
    "language_info": {
      "name": "python"
    }
  },
  "cells": [
    {
      "cell_type": "markdown",
      "metadata": {
        "id": "view-in-github",
        "colab_type": "text"
      },
      "source": [
        "<a href=\"https://colab.research.google.com/github/madhuharika1820/Codsoft/blob/main/Task_5.ipynb\" target=\"_parent\"><img src=\"https://colab.research.google.com/assets/colab-badge.svg\" alt=\"Open In Colab\"/></a>"
      ]
    },
    {
      "cell_type": "markdown",
      "source": [
        "**Task-5:Contact Book**"
      ],
      "metadata": {
        "id": "LwbNJLkSpRCr"
      }
    },
    {
      "cell_type": "code",
      "execution_count": null,
      "metadata": {
        "id": "vhBbcbQ-pP0J"
      },
      "outputs": [],
      "source": [
        "# Initialize the contact book (as a dictionary)\n",
        "contact_book = {}\n",
        "\n",
        "def add_contact():\n",
        "    name = input(\"Enter contact name: \")\n",
        "    phone = input(\"Enter phone number: \")\n",
        "    email = input(\"Enter email: \")\n",
        "    contact_book[name] = {\"Phone\": phone, \"Email\": email}\n",
        "    print(f\"{name} added successfully.\\n\")\n",
        "\n",
        "def view_contacts():\n",
        "    if not contact_book:\n",
        "        print(\"Contact book is empty.\\n\")\n",
        "    else:\n",
        "        print(\"\\nContact List:\")\n",
        "        for name, details in contact_book.items():\n",
        "            print(f\"Name: {name}, Phone: {details['Phone']}, Email: {details['Email']}\")\n",
        "        print(\"\")\n",
        "\n",
        "def search_contact():\n",
        "    name = input(\"Enter contact name to search: \")\n",
        "    if name in contact_book:\n",
        "        print(f\"Name: {name}, Phone: {contact_book[name]['Phone']}, Email: {contact_book[name]['Email']}\\n\")\n",
        "    else:\n",
        "        print(f\"{name} not found.\\n\")\n",
        "\n",
        "def update_contact():\n",
        "    name = input(\"Enter contact name to update: \")\n",
        "    if name in contact_book:\n",
        "        phone = input(f\"Enter new phone number for {name} (press Enter to skip): \")\n",
        "        email = input(f\"Enter new email for {name} (press Enter to skip): \")\n",
        "\n",
        "        if phone:\n",
        "            contact_book[name]['Phone'] = phone\n",
        "        if email:\n",
        "            contact_book[name]['Email'] = email\n",
        "\n",
        "        print(f\"{name}'s contact updated successfully.\\n\")\n",
        "    else:\n",
        "        print(f\"{name} not found.\\n\")\n",
        "\n",
        "def delete_contact():\n",
        "    name = input(\"Enter contact name to delete: \")\n",
        "    if name in contact_book:\n",
        "        del contact_book[name]\n",
        "        print(f\"{name} deleted successfully.\\n\")\n",
        "    else:\n",
        "        print(f\"{name} not found.\\n\")\n",
        "\n",
        "def main_menu():\n",
        "    while True:\n",
        "        print(\"Contact Book Menu:\")\n",
        "        print(\"1. Add Contact\")\n",
        "        print(\"2. View Contact List\")\n",
        "        print(\"3. Search Contact\")\n",
        "        print(\"4. Update Contact\")\n",
        "        print(\"5. Delete Contact\")\n",
        "        print(\"6. Exit\")\n",
        "\n",
        "        choice = input(\"Choose an option (1-6): \")\n",
        "\n",
        "        if choice == '1':\n",
        "            add_contact()\n",
        "        elif choice == '2':\n",
        "            view_contacts()\n",
        "        elif choice == '3':\n",
        "            search_contact()\n",
        "        elif choice == '4':\n",
        "            update_contact()\n",
        "        elif choice == '5':\n",
        "            delete_contact()\n",
        "        elif choice == '6':\n",
        "            print(\"Exiting the contact book. Goodbye!\")\n",
        "            break\n",
        "        else:\n",
        "            print(\"Invalid choice, please try again.\\n\")\n",
        "\n",
        "# Run the contact book application\n",
        "if __name__ == \"__main__\":\n",
        "    main_menu()"
      ]
    }
  ]
}